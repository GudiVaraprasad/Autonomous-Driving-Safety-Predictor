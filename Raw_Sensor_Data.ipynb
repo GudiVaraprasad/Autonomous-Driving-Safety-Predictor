{
 "cells": [
  {
   "cell_type": "markdown",
   "id": "6fef16d9-bb0d-4cf8-8861-819a1558739d",
   "metadata": {},
   "source": [
    "# Autonomous Driving Safety Predictor Using Raw Sensor Data\n",
    "\n",
    "## Project Overview\n",
    "\n",
    "In this project, we will build a machine learning model to predict safety-critical scenarios in autonomous driving using **raw sensor data**. We will manually engineer features from accelerometer and gyroscope readings and then train an XGBoost classifier to make predictions."
   ]
  },
  {
   "cell_type": "markdown",
   "id": "6f0cdc99-e262-417b-bdee-20c56b292e53",
   "metadata": {},
   "source": [
    "### Import Libraries"
   ]
  },
  {
   "cell_type": "code",
   "execution_count": 26,
   "id": "100da354-4552-4b26-8939-3396942743ee",
   "metadata": {},
   "outputs": [],
   "source": [
    "# Import necessary libraries\n",
    "import pandas as pd\n",
    "import numpy as np\n",
    "import matplotlib.pyplot as plt\n",
    "import seaborn as sns\n",
    "\n",
    "# Machine learning and evaluation\n",
    "from sklearn.model_selection import train_test_split, RandomizedSearchCV\n",
    "from sklearn.metrics import accuracy_score, classification_report, confusion_matrix\n",
    "import xgboost as xgb"
   ]
  },
  {
   "cell_type": "markdown",
   "id": "80495df0-7d51-4717-9d0b-0e27a0b7c7ae",
   "metadata": {},
   "source": [
    "### Load and Inspect Raw Data"
   ]
  },
  {
   "cell_type": "code",
   "execution_count": 27,
   "id": "4f4badaf-85d9-4355-a16d-9099fe9b22cd",
   "metadata": {},
   "outputs": [
    {
     "name": "stdout",
     "output_type": "stream",
     "text": [
      "<class 'pandas.core.frame.DataFrame'>\n",
      "RangeIndex: 1114 entries, 0 to 1113\n",
      "Data columns (total 7 columns):\n",
      " #   Column         Non-Null Count  Dtype  \n",
      "---  ------         --------------  -----  \n",
      " 0   Target(Class)  1114 non-null   int64  \n",
      " 1   GyroX          1114 non-null   float64\n",
      " 2   GyroY          1114 non-null   float64\n",
      " 3   GyroZ          1114 non-null   float64\n",
      " 4   AccX           1114 non-null   float64\n",
      " 5   AccY           1114 non-null   float64\n",
      " 6   AccZ           1114 non-null   float64\n",
      "dtypes: float64(6), int64(1)\n",
      "memory usage: 61.0 KB\n",
      "None\n",
      "   Target(Class)     GyroX     GyroY     GyroZ      AccX      AccY      AccZ\n",
      "0              1 -0.923664  3.694656  0.824427  0.162598 -0.086670 -0.969482\n",
      "1              1 -0.908397  4.534351  0.832061  0.175781 -0.100586 -1.013184\n",
      "2              1  0.786260  3.969466  0.587786  0.322754 -0.140381 -0.911621\n",
      "3              1  0.335878  4.564885 -0.251908  0.480225 -0.226807 -0.936768\n",
      "4              1  3.351145  2.694656 -0.106870  0.426025 -0.253906 -0.950195\n"
     ]
    }
   ],
   "source": [
    "# Load the raw sensor data\n",
    "sensor_raw = pd.read_csv('./data/sensor_raw.csv')\n",
    "\n",
    "# Inspect the structure of the raw data\n",
    "print(sensor_raw.info())\n",
    "print(sensor_raw.head())"
   ]
  },
  {
   "cell_type": "markdown",
   "id": "3ee4b2f6-7bda-4431-9a87-d54d617cb823",
   "metadata": {},
   "source": [
    "## Feature Engineering\n",
    "\n",
    "To extract meaningful insights from the raw sensor data, we manually engineer features such as the mean, variance, skewness, and kurtosis for both accelerometer and gyroscope readings. These features help in capturing patterns that may indicate safety-critical scenarios."
   ]
  },
  {
   "cell_type": "code",
   "execution_count": 46,
   "id": "c5ee598d-0425-41aa-b908-865c0430bcc5",
   "metadata": {},
   "outputs": [
    {
     "name": "stdout",
     "output_type": "stream",
     "text": [
      "<class 'pandas.core.frame.DataFrame'>\n",
      "Index: 1105 entries, 9 to 1113\n",
      "Data columns (total 13 columns):\n",
      " #   Column     Non-Null Count  Dtype  \n",
      "---  ------     --------------  -----  \n",
      " 0   AccMeanX   1105 non-null   float64\n",
      " 1   AccMeanY   1105 non-null   float64\n",
      " 2   AccMeanZ   1105 non-null   float64\n",
      " 3   GyroMeanX  1105 non-null   float64\n",
      " 4   GyroMeanY  1105 non-null   float64\n",
      " 5   GyroMeanZ  1105 non-null   float64\n",
      " 6   AccVarX    1105 non-null   float64\n",
      " 7   AccVarY    1105 non-null   float64\n",
      " 8   AccVarZ    1105 non-null   float64\n",
      " 9   GyroVarX   1105 non-null   float64\n",
      " 10  GyroVarY   1105 non-null   float64\n",
      " 11  GyroVarZ   1105 non-null   float64\n",
      " 12  Target     1096 non-null   float64\n",
      "dtypes: float64(13)\n",
      "memory usage: 120.9 KB\n",
      "None\n",
      "    AccMeanX  AccMeanY  AccMeanZ  GyroMeanX  GyroMeanY  GyroMeanZ   AccVarX  \\\n",
      "9   0.313843 -0.168262 -0.951318   0.035878   4.421374  -0.278626  0.013547   \n",
      "10  0.315308 -0.169629 -0.954590   0.029008   4.382443  -0.291603  0.013076   \n",
      "11  0.315845 -0.169116 -0.951294   0.035878   4.301527  -0.300763  0.012912   \n",
      "12  0.314209 -0.171143 -0.954810  -0.055725   4.312977  -0.271756  0.012914   \n",
      "13  0.317407 -0.167114 -0.958911  -0.225191   4.412977  -0.226718  0.014196   \n",
      "\n",
      "     AccVarY   AccVarZ  GyroVarX  GyroVarY  GyroVarZ  Target  \n",
      "9   0.005162  0.002092  2.237490  2.769572  1.176508     1.0  \n",
      "10  0.004933  0.002331  2.252612  2.847600  1.146382     1.0  \n",
      "11  0.005014  0.002010  2.238772  2.885758  1.124348     1.0  \n",
      "12  0.004926  0.001824  2.169934  2.878620  1.190039     1.0  \n",
      "13  0.004590  0.001828  2.309646  3.034600  1.212310     1.0  \n"
     ]
    }
   ],
   "source": [
    "# Feature engineering function\n",
    "def engineer_features(df):\n",
    "    features = pd.DataFrame()\n",
    "\n",
    "    # Mean of Accelerometer and Gyroscope readings\n",
    "    features['AccMeanX'] = df['AccX'].rolling(window=10).mean()\n",
    "    features['AccMeanY'] = df['AccY'].rolling(window=10).mean()\n",
    "    features['AccMeanZ'] = df['AccZ'].rolling(window=10).mean()\n",
    "    \n",
    "    features['GyroMeanX'] = df['GyroX'].rolling(window=10).mean()\n",
    "    features['GyroMeanY'] = df['GyroY'].rolling(window=10).mean()\n",
    "    features['GyroMeanZ'] = df['GyroZ'].rolling(window=10).mean()\n",
    "\n",
    "    # Variance of Accelerometer and Gyroscope readings\n",
    "    features['AccVarX'] = df['AccX'].rolling(window=10).var()\n",
    "    features['AccVarY'] = df['AccY'].rolling(window=10).var()\n",
    "    features['AccVarZ'] = df['AccZ'].rolling(window=10).var()\n",
    "\n",
    "    features['GyroVarX'] = df['GyroX'].rolling(window=10).var()\n",
    "    features['GyroVarY'] = df['GyroY'].rolling(window=10).var()\n",
    "    features['GyroVarZ'] = df['GyroZ'].rolling(window=10).var()\n",
    "\n",
    "    return features\n",
    "\n",
    "# Apply feature engineering to the raw sensor data\n",
    "sensor_features = engineer_features(sensor_raw)\n",
    "\n",
    "# Drop NaN values created by rolling windows\n",
    "sensor_features.dropna(inplace=True)\n",
    "\n",
    "# Add the target variable back\n",
    "sensor_features['Target'] = sensor_raw['Target(Class)'][len(sensor_raw) - len(sensor_features):].reset_index(drop=True)\n",
    "\n",
    "# Inspect the engineered features\n",
    "print(sensor_features.info())\n",
    "print(sensor_features.head())"
   ]
  },
  {
   "cell_type": "markdown",
   "id": "b7f4012b-f142-44f4-a417-51b3b91602a2",
   "metadata": {},
   "source": [
    "## Data Splitting\n",
    "\n",
    "We split the dataset into features (`X`) and the target variable (`y`). The target variable indicates whether a scenario is safety-critical. Afterward, we split the data into training (80%) and testing (20%) sets."
   ]
  },
  {
   "cell_type": "code",
   "execution_count": 47,
   "id": "3a2eacd8-ad2d-4ce6-b228-b8e7f0764972",
   "metadata": {},
   "outputs": [
    {
     "name": "stdout",
     "output_type": "stream",
     "text": [
      "X_train shape: (884, 12)\n",
      "X_test shape: (221, 12)\n",
      "y_train shape: (884,)\n",
      "y_test shape: (221,)\n"
     ]
    }
   ],
   "source": [
    "# Splitting features and target\n",
    "X = sensor_features.drop(columns=['Target'])\n",
    "y = sensor_features['Target']\n",
    "\n",
    "# Split the data into training (80%) and testing (20%) sets\n",
    "X_train, X_test, y_train, y_test = train_test_split(X, y, test_size=0.2, random_state=42)\n",
    "\n",
    "# Check the shapes\n",
    "print(f\"X_train shape: {X_train.shape}\")\n",
    "print(f\"X_test shape: {X_test.shape}\")\n",
    "print(f\"y_train shape: {y_train.shape}\")\n",
    "print(f\"y_test shape: {y_test.shape}\")"
   ]
  },
  {
   "cell_type": "markdown",
   "id": "f7bfa3c7-68c4-44ac-8dc1-f97720b81a36",
   "metadata": {},
   "source": [
    "## Adjusting Class Labels\n",
    "\n",
    "The target labels must start from `0` for compatibility with the XGBoost model. If the labels start from `1`, we will shift them to ensure the correct label format."
   ]
  },
  {
   "cell_type": "code",
   "execution_count": 49,
   "id": "31fc528e-80ca-4d44-b89c-8b58af3e8cd6",
   "metadata": {},
   "outputs": [
    {
     "name": "stdout",
     "output_type": "stream",
     "text": [
      "Unique labels in y_train: [ 3.  1.  0.  2. nan]\n",
      "Unique labels in y_test: [ 1.  3.  2.  0. nan]\n"
     ]
    }
   ],
   "source": [
    "# If the labels are [1, 2, 3, 4], we need to shift them to [0, 1, 2, 3]\n",
    "y_train = y_train - 1\n",
    "y_test = y_test - 1\n",
    "\n",
    "# Check unique labels after the shift\n",
    "print(f\"Unique labels in y_train: {y_train.unique()}\")\n",
    "print(f\"Unique labels in y_test: {y_test.unique()}\")"
   ]
  },
  {
   "cell_type": "markdown",
   "id": "7af1d674-48c5-44f7-939d-adcacbf8e71c",
   "metadata": {},
   "source": [
    "## Handling Missing Values (NaN)\n",
    "\n",
    "During the feature engineering process, some missing values (NaNs) may have been introduced. We remove these NaNs to ensure that the dataset is clean before training the model."
   ]
  },
  {
   "cell_type": "code",
   "execution_count": 50,
   "id": "3c0b00b1-8c39-4e4d-943e-4a7e34772328",
   "metadata": {},
   "outputs": [
    {
     "name": "stdout",
     "output_type": "stream",
     "text": [
      "Unique labels in y_train after NaN removal: [3. 1. 0. 2.]\n",
      "Unique labels in y_test after NaN removal: [1. 3. 2. 0.]\n",
      "X_train shape: (876, 12)\n",
      "y_train shape: (876,)\n",
      "X_test shape: (220, 12)\n",
      "y_test shape: (220,)\n"
     ]
    }
   ],
   "source": [
    "# Remove NaN values from y_train and the corresponding rows from X_train\n",
    "nan_indices_train = y_train[y_train.isna()].index\n",
    "X_train = X_train.drop(nan_indices_train)\n",
    "y_train = y_train.drop(nan_indices_train)\n",
    "\n",
    "# Remove NaN values from y_test and the corresponding rows from X_test\n",
    "nan_indices_test = y_test[y_test.isna()].index\n",
    "X_test = X_test.drop(nan_indices_test)\n",
    "y_test = y_test.drop(nan_indices_test)\n",
    "\n",
    "# Reset indices after dropping NaN values to avoid future misalignment\n",
    "X_train.reset_index(drop=True, inplace=True)\n",
    "y_train.reset_index(drop=True, inplace=True)\n",
    "X_test.reset_index(drop=True, inplace=True)\n",
    "y_test.reset_index(drop=True, inplace=True)\n",
    "\n",
    "# Check the new unique labels after removing NaN\n",
    "print(f\"Unique labels in y_train after NaN removal: {y_train.unique()}\")\n",
    "print(f\"Unique labels in y_test after NaN removal: {y_test.unique()}\")\n",
    "\n",
    "# Check the shapes of X_train, y_train, X_test, and y_test\n",
    "print(f\"X_train shape: {X_train.shape}\")\n",
    "print(f\"y_train shape: {y_train.shape}\")\n",
    "print(f\"X_test shape: {X_test.shape}\")\n",
    "print(f\"y_test shape: {y_test.shape}\")"
   ]
  },
  {
   "cell_type": "markdown",
   "id": "acf452ef-e9f0-44a1-b579-b443c15b09e7",
   "metadata": {},
   "source": [
    "## Model Training\n",
    "\n",
    "We train the XGBoost classifier on the training dataset. This involves fitting the model on the feature set (`X_train`) and target labels (`y_train`). After training, we will evaluate the model's performance on the test dataset.\n",
    "\n",
    "## Model Evaluation\n",
    "\n",
    "After training the model, we evaluate its performance on the test set. Key metrics include **accuracy**, **precision**, **recall**, and **F1-score** for each class."
   ]
  },
  {
   "cell_type": "code",
   "execution_count": 51,
   "id": "3e1ff793-245c-40ed-8125-5935bc59675d",
   "metadata": {},
   "outputs": [
    {
     "name": "stdout",
     "output_type": "stream",
     "text": [
      "Test Accuracy: 0.97\n",
      "              precision    recall  f1-score   support\n",
      "\n",
      "         0.0       0.94      1.00      0.97        49\n",
      "         1.0       0.97      0.98      0.97        59\n",
      "         2.0       0.98      0.93      0.96        70\n",
      "         3.0       1.00      1.00      1.00        42\n",
      "\n",
      "    accuracy                           0.97       220\n",
      "   macro avg       0.97      0.98      0.98       220\n",
      "weighted avg       0.97      0.97      0.97       220\n",
      "\n"
     ]
    }
   ],
   "source": [
    "# Initialize and train the XGBoost model\n",
    "model = xgb.XGBClassifier(random_state=42)\n",
    "model.fit(X_train, y_train)\n",
    "\n",
    "# Make predictions on the test data\n",
    "y_pred = model.predict(X_test)\n",
    "\n",
    "# Evaluate the model\n",
    "accuracy = accuracy_score(y_test, y_pred)\n",
    "print(f\"Test Accuracy: {accuracy:.2f}\")\n",
    "\n",
    "# Generate a detailed classification report\n",
    "print(classification_report(y_test, y_pred))\n"
   ]
  },
  {
   "cell_type": "markdown",
   "id": "ab1b9a9b-3330-4a59-be31-4b22136eefb3",
   "metadata": {},
   "source": [
    "## Model Results\n",
    "\n",
    "The model achieved excellent results, with the following key performance metrics:\n",
    "- **Test Accuracy**: 97%\n",
    "- **Class-wise Performance**:\n",
    "  - **Class 0**: Precision (0.94), Recall (1.00), F1-Score (0.97)\n",
    "  - **Class 1**: Precision (0.97), Recall (0.98), F1-Score (0.97)\n",
    "  - **Class 2**: Precision (0.98), Recall (0.93), F1-Score (0.96)\n",
    "  - **Class 3**: Precision (1.00), Recall (1.00), F1-Score (1.00)\n",
    "\n",
    "These results demonstrate that the model can accurately predict safety-critical scenarios."
   ]
  },
  {
   "cell_type": "markdown",
   "id": "10ecc90d-e023-488c-a0cd-e36339e54f80",
   "metadata": {},
   "source": [
    "## Next Steps for Improvement\n",
    "\n",
    "To further enhance the model’s performance and gain deeper insights, we propose the following next steps:\n",
    "\n",
    "1. **Hyperparameter Tuning**:\n",
    "   Use `RandomizedSearchCV` or `GridSearchCV` to optimize the model's hyperparameters for potentially better accuracy.\n",
    "   \n",
    "2. **Feature Importance**:\n",
    "   Visualize feature importance to understand which features contribute the most to model predictions.\n",
    "   \n",
    "3. **Confusion Matrix**:\n",
    "   Generate a confusion matrix to visually assess how well the model performed in predicting each class.\n",
    "   \n",
    "4. **Model Deployment**:\n",
    "   Save the trained model for deployment or future use.\n"
   ]
  },
  {
   "cell_type": "markdown",
   "id": "f4204011-98a2-422b-9ecd-e0bee7e6f291",
   "metadata": {},
   "source": [
    "## Hyperparameter Tuning\n",
    "\n",
    "We can fine-tune the model by adjusting key hyperparameters such as `n_estimators`, `max_depth`, `learning_rate`, and `subsample`. This allows the model to perform optimally for the dataset."
   ]
  },
  {
   "cell_type": "code",
   "execution_count": 52,
   "id": "55997230-4ce6-4764-bdd3-e9df2136b6cc",
   "metadata": {},
   "outputs": [
    {
     "name": "stdout",
     "output_type": "stream",
     "text": [
      "Fitting 5 folds for each of 25 candidates, totalling 125 fits\n",
      "Best parameters: {'subsample': 0.8, 'n_estimators': 50, 'max_depth': 3, 'learning_rate': 0.2, 'gamma': 0.2}\n",
      "Best cross-validation accuracy: 0.96\n"
     ]
    }
   ],
   "source": [
    "# Define parameter grid\n",
    "param_dist = {\n",
    "    'n_estimators': [50, 100, 200],\n",
    "    'max_depth': [3, 4, 5],\n",
    "    'learning_rate': [0.01, 0.1, 0.2],\n",
    "    'gamma': [0, 0.1, 0.2],\n",
    "    'subsample': [0.8, 1.0]\n",
    "}\n",
    "\n",
    "# RandomizedSearchCV\n",
    "random_search = RandomizedSearchCV(estimator=model, param_distributions=param_dist, \n",
    "                                   n_iter=25, scoring='accuracy', cv=5, verbose=1, random_state=42)\n",
    "random_search.fit(X_train, y_train)\n",
    "\n",
    "# Best parameters and best score\n",
    "print(f\"Best parameters: {random_search.best_params_}\")\n",
    "print(f\"Best cross-validation accuracy: {random_search.best_score_:.2f}\")"
   ]
  },
  {
   "cell_type": "markdown",
   "id": "6f24b210-20b5-4dc1-81c9-040f682aba5a",
   "metadata": {},
   "source": [
    "## Feature Importance\n",
    "\n",
    "XGBoost provides a method to visualize the importance of each feature. This allows us to identify which features contribute the most to the model's predictions."
   ]
  },
  {
   "cell_type": "code",
   "execution_count": 53,
   "id": "0f87cd4d-c759-4c5b-ba30-ed5318bf5333",
   "metadata": {},
   "outputs": [
    {
     "data": {
      "image/png": "[encoded data removed]",
      "text/plain": [
       "<Figure size 640x480 with 1 Axes>"
      ]
     },
     "metadata": {},
     "output_type": "display_data"
    }
   ],
   "source": [
    "xgb.plot_importance(model)\n",
    "plt.show()"
   ]
  },
  {
   "cell_type": "markdown",
   "id": "1ab33e79-4bb0-47c3-ac95-b9a0144506b2",
   "metadata": {},
   "source": [
    "## Confusion Matrix\n",
    "\n",
    "A confusion matrix provides a visual breakdown of how many instances the model correctly predicted for each class and where it made mistakes. This helps in understanding the model’s strengths and weaknesses for each class."
   ]
  },
  {
   "cell_type": "code",
   "execution_count": 54,
   "id": "0fad110f-5f20-435e-9517-a12bdf20ebf9",
   "metadata": {},
   "outputs": [
    {
     "data": {
      "image/png": "[encoded data removed]",
      "text/plain": [
       "<Figure size 600x400 with 2 Axes>"
      ]
     },
     "metadata": {},
     "output_type": "display_data"
    }
   ],
   "source": [
    "from sklearn.metrics import confusion_matrix\n",
    "import seaborn as sns\n",
    "import matplotlib.pyplot as plt\n",
    "\n",
    "# Confusion matrix\n",
    "cm = confusion_matrix(y_test, y_pred)\n",
    "\n",
    "# Plot the confusion matrix\n",
    "plt.figure(figsize=(6,4))\n",
    "sns.heatmap(cm, annot=True, fmt='d', cmap='Blues')\n",
    "plt.xlabel('Predicted')\n",
    "plt.ylabel('Actual')\n",
    "plt.show()"
   ]
  }
 ],
 "metadata": {
  "kernelspec": {
   "display_name": "Python 3 (ipykernel)",
   "language": "python",
   "name": "python3"
  },
  "language_info": {
   "codemirror_mode": {
    "name": "ipython",
    "version": 3
   },
   "file_extension": ".py",
   "mimetype": "text/x-python",
   "name": "python",
   "nbconvert_exporter": "python",
   "pygments_lexer": "ipython3",
   "version": "3.10.0"
  }
 },
 "nbformat": 4,
 "nbformat_minor": 5
}
